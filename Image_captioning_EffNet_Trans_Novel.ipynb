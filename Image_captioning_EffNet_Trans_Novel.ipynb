{
  "nbformat": 4,
  "nbformat_minor": 0,
  "metadata": {
    "accelerator": "GPU",
    "colab": {
      "provenance": []
    },
    "kernelspec": {
      "display_name": "Python 3",
      "name": "python3"
    },
    "language_info": {
      "name": "python"
    }
  },
  "cells": [
    {
      "cell_type": "code",
      "metadata": {
        "id": "CgEk7ZPNltz0"
      },
      "source": [
        " \n",
        "import os\n",
        "import re\n",
        "import numpy as np\n",
        "import matplotlib.pyplot as plt\n",
        " \n",
        "import tensorflow as tf\n",
        "from tensorflow import keras\n",
        "from tensorflow.keras import layers\n",
        "from tensorflow.keras.applications import efficientnet\n",
        "from tensorflow.keras.layers.experimental.preprocessing import TextVectorization\n",
        " \n",
        " \n",
        "seed = 111\n",
        "np.random.seed(seed)\n",
        "tf.random.set_seed(seed)"
      ],
      "execution_count": null,
      "outputs": []
    },
    {
      "cell_type": "code",
      "metadata": {
        "id": "oB_y4oOcl9Cv"
      },
      "source": [
        "!wget -q https://github.com/jbrownlee/Datasets/releases/download/Flickr8k/Flickr8k_Dataset.zip\n",
        "!wget -q https://github.com/jbrownlee/Datasets/releases/download/Flickr8k/Flickr8k_text.zip\n",
        "!unzip -qq Flickr8k_Dataset.zip\n",
        "!unzip -qq Flickr8k_text.zip\n",
        "!rm Flickr8k_Dataset.zip Flickr8k_text.zip"
      ],
      "execution_count": null,
      "outputs": []
    },
    {
      "cell_type": "code",
      "metadata": {
        "id": "bAee5NTHbN3B"
      },
      "source": [],
      "execution_count": null,
      "outputs": []
    },
    {
      "cell_type": "code",
      "metadata": {
        "id": "E6qKMFvunAO6"
      },
      "source": [
        "\n",
        "IMAGES_PATH = \"Flicker8k_Dataset\"\n",
        "\n",
        "\n",
        "IMAGE_SIZE = (224, 224)\n",
        "\n",
        "# Vocabulary size\n",
        "VOCAB_SIZE = 10000\n",
        "\n",
        "# Fixed length allowed for any sequence\n",
        "SEQ_LENGTH = 20\n",
        "\n",
        "# Dimension for the image embeddings and token embeddings\n",
        "EMBED_DIM = 512\n",
        "\n",
        "# Number of self-attention heads\n",
        "NUM_HEADS = 2\n",
        "\n",
        "\n",
        "FF_DIM = 512\n",
        "\n",
        "\n",
        "BATCH_SIZE = 64\n",
        "EPOCHS = 30\n",
        "AUTOTUNE = tf.data.AUTOTUNE"
      ],
      "execution_count": null,
      "outputs": []
    },
    {
      "cell_type": "code",
      "metadata": {
        "colab": {
          "base_uri": "https://localhost:8080/"
        },
        "id": "8Dp4praioRRh",
        "outputId": "8998fef8-9292-4644-ed6c-bec5a5e79bba"
      },
      "source": [
        "def load_captions_data(filename):\n",
        "    \"\"\"Loads captions (text) data and maps them to corresponding images.\n",
        "\n",
        "    Args:\n",
        "        filename: Path to the text file containing caption data.\n",
        "\n",
        "    Returns:\n",
        "        caption_mapping: Dictionary mapping image names and the corresponding captions\n",
        "        text_data: List containing all the available captions\n",
        "    \"\"\"\n",
        "\n",
        "    with open(filename) as caption_file:\n",
        "        caption_data = caption_file.readlines()\n",
        "        caption_mapping = {}\n",
        "        text_data = []\n",
        "\n",
        "        for line in caption_data:\n",
        "            line = line.rstrip(\"\\n\")\n",
        "            # Image name and captions are separated using a tab\n",
        "            img_name, caption = line.split(\"\\t\")\n",
        "            # Each image is repeated five times for the five different captions. Each\n",
        "            # image name has a prefix `#(caption_number)`\n",
        "            img_name = img_name.split(\"#\")[0]\n",
        "            img_name = os.path.join(IMAGES_PATH, img_name.strip())\n",
        "\n",
        "            if img_name.endswith(\"jpg\"):\n",
        "                # We will add a start and an end token to each caption\n",
        "                caption = \"<start> \" + caption.strip() + \" <end>\"\n",
        "                text_data.append(caption)\n",
        "\n",
        "                if img_name in caption_mapping:\n",
        "                    caption_mapping[img_name].append(caption)\n",
        "                else:\n",
        "                    caption_mapping[img_name] = [caption]\n",
        "\n",
        "        return caption_mapping, text_data\n",
        "\n",
        "\n",
        "def train_val_split(caption_data, train_size=0.8, shuffle=True):\n",
        "    \"\"\"Split the captioning dataset into train and validation sets.\n",
        "\n",
        "    Args:\n",
        "        caption_data (dict): Dictionary containing the mapped caption data\n",
        "        train_size (float): Fraction of all the full dataset to use as training data\n",
        "        shuffle (bool): Whether to shuffle the dataset before splitting\n",
        "\n",
        "    Returns:\n",
        "        Traning and validation datasets as two separated dicts\n",
        "    \"\"\"\n",
        "\n",
        "    # 1. Get the list of all image names\n",
        "    all_images = list(caption_data.keys())\n",
        "\n",
        "    # 2. Shuffle if necessary\n",
        "    if shuffle:\n",
        "        np.random.shuffle(all_images)\n",
        "\n",
        "    # 3. Split into training and validation sets\n",
        "    train_size = int(len(caption_data) * train_size)\n",
        "\n",
        "    training_data = {\n",
        "        img_name: caption_data[img_name] for img_name in all_images[:train_size]\n",
        "    }\n",
        "    validation_data = {\n",
        "        img_name: caption_data[img_name] for img_name in all_images[train_size:]\n",
        "    }\n",
        "\n",
        "    # 4. Return the splits\n",
        "    return training_data, validation_data\n",
        "\n",
        "\n",
        "# Load the dataset\n",
        "captions_mapping, text_data = load_captions_data(\"Flickr8k.token.txt\")\n",
        "\n",
        "# Split the dataset into training and validation sets\n",
        "train_data, valid_data = train_val_split(captions_mapping)\n",
        "print(\"Number of training samples: \", len(train_data))\n",
        "print(\"Number of validation samples: \", len(valid_data))"
      ],
      "execution_count": null,
      "outputs": [
        {
          "output_type": "stream",
          "text": [
            "Number of training samples:  6472\n",
            "Number of validation samples:  1619\n"
          ],
          "name": "stdout"
        }
      ]
    },
    {
      "cell_type": "code",
      "metadata": {
        "id": "oXi-29gqpdrV"
      },
      "source": [
        "\n",
        "def custom_standardization(input_string):\n",
        "    lowercase = tf.strings.lower(input_string)\n",
        "    return tf.strings.regex_replace(lowercase, \"[%s]\" % re.escape(strip_chars), \"\")\n",
        "\n",
        "\n",
        "strip_chars = \"!\\\"#$%&'()*+,-./:;<=>?@[\\]^_`{|}~\"\n",
        "strip_chars = strip_chars.replace(\"<\", \"\")\n",
        "strip_chars = strip_chars.replace(\">\", \"\")\n",
        "\n",
        "vectorization = TextVectorization(\n",
        "    max_tokens=VOCAB_SIZE,\n",
        "    output_mode=\"int\",\n",
        "    output_sequence_length=SEQ_LENGTH,\n",
        "    standardize=custom_standardization,\n",
        ")\n",
        "vectorization.adapt(text_data)"
      ],
      "execution_count": null,
      "outputs": []
    },
    {
      "cell_type": "code",
      "metadata": {
        "id": "ESeNKRq9pxLT"
      },
      "source": [
        "def read_image(img_path, size=IMAGE_SIZE):\n",
        "    img = tf.io.read_file(img_path)\n",
        "    img = tf.image.decode_jpeg(img, channels=3)\n",
        "    img = tf.image.resize(img, IMAGE_SIZE)\n",
        "    img = tf.image.convert_image_dtype(img, tf.float32)\n",
        "    return img\n",
        "\n",
        "\n",
        "def make_dataset(images, captions):\n",
        "    img_dataset = tf.data.Dataset.from_tensor_slices(images).map(\n",
        "        read_image, num_parallel_calls=AUTOTUNE\n",
        "    )\n",
        "    cap_dataset = tf.data.Dataset.from_tensor_slices(captions).map(\n",
        "        vectorization, num_parallel_calls=AUTOTUNE\n",
        "    )\n",
        "    dataset = tf.data.Dataset.zip((img_dataset, cap_dataset))\n",
        "    dataset = dataset.batch(BATCH_SIZE).shuffle(256).prefetch(AUTOTUNE)\n",
        "    return dataset\n",
        "\n",
        "\n",
        "# Pass the list of images and the list of corresponding captions\n",
        "train_dataset = make_dataset(list(train_data.keys()), list(train_data.values()))\n",
        "valid_dataset = make_dataset(list(valid_data.keys()), list(valid_data.values()))"
      ],
      "execution_count": null,
      "outputs": []
    },
    {
      "cell_type": "markdown",
      "metadata": {
        "id": "_HKDpB8UqT1U"
      },
      "source": [
        "## **Building model**"
      ]
    },
    {
      "cell_type": "code",
      "metadata": {
        "colab": {
          "base_uri": "https://localhost:8080/"
        },
        "id": "a5tGCUlcqhSm",
        "outputId": "358b3063-0501-4fa2-ec50-7ea3ef4f4b06"
      },
      "source": [
        "def get_cnn_model():\n",
        "    base_model = efficientnet.EfficientNetB0(\n",
        "        input_shape=(*IMAGE_SIZE, 3), include_top=False, weights=\"imagenet\",\n",
        "    )\n",
        "    # We freeze our feature extractor\n",
        "    base_model.trainable = False\n",
        "    base_model_out = base_model.output\n",
        "    base_model_out = layers.Reshape((-1, 1280))(base_model_out)\n",
        "    cnn_model = keras.models.Model(base_model.input, base_model_out)\n",
        "    return cnn_model\n",
        "\n",
        "\n",
        "class TransformerEncoderBlock(layers.Layer):\n",
        "    def __init__(self, embed_dim, dense_dim, num_heads, **kwargs):\n",
        "        super().__init__(**kwargs)\n",
        "        self.embed_dim = embed_dim\n",
        "        self.dense_dim = dense_dim\n",
        "        self.num_heads = num_heads\n",
        "        self.attention = layers.MultiHeadAttention(\n",
        "            num_heads=num_heads, key_dim=embed_dim\n",
        "        )\n",
        "        self.dense_proj = layers.Dense(embed_dim, activation=\"relu\")\n",
        "        self.layernorm_1 = layers.LayerNormalization()\n",
        "\n",
        "    def call(self, inputs, training, mask=None):\n",
        "        inputs = self.dense_proj(inputs)\n",
        "        attention_output = self.attention(\n",
        "            query=inputs, value=inputs, key=inputs, attention_mask=None\n",
        "        )\n",
        "        proj_input = self.layernorm_1(inputs + attention_output)\n",
        "        return proj_input\n",
        "\n",
        "class PositionalEmbedding(layers.Layer):\n",
        "    def __init__(self, sequence_length, vocab_size, embed_dim, **kwargs):\n",
        "        super().__init__(**kwargs)\n",
        "        self.token_embeddings = layers.Embedding(\n",
        "            input_dim=vocab_size, output_dim=embed_dim\n",
        "        )\n",
        "        self.position_embeddings = layers.Embedding(\n",
        "            input_dim=sequence_length, output_dim=embed_dim\n",
        "        )\n",
        "        self.sequence_length = sequence_length\n",
        "        self.vocab_size = vocab_size\n",
        "        self.embed_dim = embed_dim\n",
        "\n",
        "    def call(self, inputs):\n",
        "        length = tf.shape(inputs)[-1]\n",
        "        positions = tf.range(start=0, limit=length, delta=1)\n",
        "        embedded_tokens = self.token_embeddings(inputs)\n",
        "        embedded_positions = self.position_embeddings(positions)\n",
        "        return embedded_tokens + embedded_positions\n",
        "\n",
        "    def compute_mask(self, inputs, mask=None):\n",
        "        return tf.math.not_equal(inputs, 0)   \n",
        "\n",
        "\n",
        "\n",
        "\n",
        "class TransformerDecoderBlock(layers.Layer):\n",
        "    def __init__(self, embed_dim, ff_dim, num_heads, **kwargs):\n",
        "        super().__init__(**kwargs)\n",
        "        self.embed_dim = embed_dim\n",
        "        self.ff_dim = ff_dim\n",
        "        self.num_heads = num_heads\n",
        "        self.attention_1 = layers.MultiHeadAttention(\n",
        "            num_heads=num_heads, key_dim=embed_dim\n",
        "        )\n",
        "        self.attention_2 = layers.MultiHeadAttention(\n",
        "            num_heads=num_heads, key_dim=embed_dim\n",
        "        )\n",
        "        self.dense_proj = keras.Sequential(\n",
        "            [layers.Dense(ff_dim, activation=\"relu\"), layers.Dense(embed_dim)]\n",
        "        )\n",
        "        self.layernorm_1 = layers.LayerNormalization()\n",
        "        self.layernorm_2 = layers.LayerNormalization()\n",
        "        self.layernorm_3 = layers.LayerNormalization()\n",
        "\n",
        "        self.embedding = PositionalEmbedding(\n",
        "            embed_dim=EMBED_DIM, sequence_length=SEQ_LENGTH, vocab_size=VOCAB_SIZE\n",
        "        )\n",
        "        self.out = layers.Dense(VOCAB_SIZE)\n",
        "        self.dropout_1 = layers.Dropout(0.1)\n",
        "        self.dropout_2 = layers.Dropout(0.5)\n",
        "        self.supports_masking = True\n",
        "\n",
        "    def call(self, inputs, encoder_outputs, training, mask=None):\n",
        "        inputs = self.embedding(inputs)\n",
        "        causal_mask = self.get_causal_attention_mask(inputs)\n",
        "        inputs = self.dropout_1(inputs, training=training)\n",
        "\n",
        "        if mask is not None:\n",
        "            padding_mask = tf.cast(mask[:, :, tf.newaxis], dtype=tf.int32)\n",
        "            combined_mask = tf.cast(mask[:, tf.newaxis, :], dtype=tf.int32)\n",
        "            combined_mask = tf.minimum(combined_mask, causal_mask)\n",
        "\n",
        "        attention_output_1 = self.attention_1(\n",
        "            query=inputs, value=inputs, key=inputs, attention_mask=combined_mask\n",
        "        )\n",
        "        out_1 = self.layernorm_1(inputs + attention_output_1)\n",
        "\n",
        "        attention_output_2 = self.attention_2(\n",
        "            query=out_1,\n",
        "            value=encoder_outputs,\n",
        "            key=encoder_outputs,\n",
        "            attention_mask=padding_mask,\n",
        "        )\n",
        "        out_2 = self.layernorm_2(out_1 + attention_output_2)\n",
        "\n",
        "        proj_output = self.dense_proj(out_2)\n",
        "        proj_out = self.layernorm_3(out_2 + proj_output)\n",
        "        proj_out = self.dropout_2(proj_out, training=training)\n",
        "\n",
        "        preds = self.out(proj_out)\n",
        "        return preds\n",
        "\n",
        "    def get_causal_attention_mask(self, inputs):\n",
        "        input_shape = tf.shape(inputs)\n",
        "        batch_size, sequence_length = input_shape[0], input_shape[1]\n",
        "        i = tf.range(sequence_length)[:, tf.newaxis]\n",
        "        j = tf.range(sequence_length)\n",
        "        mask = tf.cast(i >= j, dtype=\"int32\")\n",
        "        mask = tf.reshape(mask, (1, input_shape[1], input_shape[1]))\n",
        "        mult = tf.concat(\n",
        "            [tf.expand_dims(batch_size, -1), tf.constant([1, 1], dtype=tf.int32)],\n",
        "            axis=0,\n",
        "        )\n",
        "        return tf.tile(mask, mult)\n",
        "\n",
        "\n",
        "class ImageCaptioningModel(keras.Model):\n",
        "    def __init__(\n",
        "        self, cnn_model, encoder, decoder, num_captions_per_image=5,\n",
        "    ):\n",
        "        super().__init__()\n",
        "        self.cnn_model = cnn_model\n",
        "        self.encoder = encoder\n",
        "        self.decoder = decoder\n",
        "        self.loss_tracker = keras.metrics.Mean(name=\"loss\")\n",
        "        self.acc_tracker = keras.metrics.Mean(name=\"accuracy\")\n",
        "        self.num_captions_per_image = num_captions_per_image\n",
        "\n",
        "    def calculate_loss(self, y_true, y_pred, mask):\n",
        "        loss = self.loss(y_true, y_pred)\n",
        "        mask = tf.cast(mask, dtype=loss.dtype)\n",
        "        loss *= mask\n",
        "        return tf.reduce_sum(loss) / tf.reduce_sum(mask)\n",
        "\n",
        "    def calculate_accuracy(self, y_true, y_pred, mask):\n",
        "        accuracy = tf.equal(y_true, tf.argmax(y_pred, axis=2))\n",
        "        accuracy = tf.math.logical_and(mask, accuracy)\n",
        "        accuracy = tf.cast(accuracy, dtype=tf.float32)\n",
        "        mask = tf.cast(mask, dtype=tf.float32)\n",
        "        return tf.reduce_sum(accuracy) / tf.reduce_sum(mask)\n",
        "\n",
        "    def _compute_loss_and_acc(self, batch_data, training=True):\n",
        "        batch_img, batch_seq = batch_data\n",
        "        batch_loss = 0\n",
        "        batch_acc = 0\n",
        "\n",
        "        # 1. Get image embeddings\n",
        "        img_embed = self.cnn_model(batch_img)\n",
        "\n",
        "        # 2. Pass each of the five captions one by one to the decoder\n",
        "        # along with the encoder outputs and compute the loss as well as accuracy\n",
        "        # for each caption.\n",
        "        for i in range(self.num_captions_per_image):\n",
        "            with tf.GradientTape() as tape:\n",
        "                # 3. Pass image embeddings to encoder\n",
        "                encoder_out = self.encoder(img_embed, training=training)\n",
        "\n",
        "                batch_seq_inp = batch_seq[:, i, :-1]\n",
        "                batch_seq_true = batch_seq[:, i, 1:]\n",
        "\n",
        "                # 4. Compute the mask for the input sequence\n",
        "                mask = tf.math.not_equal(batch_seq_inp, 0)\n",
        "\n",
        "                # 5. Pass the encoder outputs, sequence inputs along with\n",
        "                # mask to the decoder\n",
        "                batch_seq_pred = self.decoder(\n",
        "                    batch_seq_inp, encoder_out, training=training, mask=mask\n",
        "                )\n",
        "\n",
        "                # 6. Calculate loss and accuracy\n",
        "                loss = self.calculate_loss(batch_seq_true, batch_seq_pred, mask)\n",
        "                acc = self.calculate_accuracy(batch_seq_true, batch_seq_pred, mask)\n",
        "\n",
        "                # 7. Update the batch loss and batch accuracy\n",
        "                batch_loss += loss\n",
        "                batch_acc += acc\n",
        "\n",
        "            # 8. Get the list of all the trainable weights\n",
        "            train_vars = (\n",
        "                self.encoder.trainable_variables + self.decoder.trainable_variables\n",
        "            )\n",
        "\n",
        "            # 9. Get the gradients\n",
        "            grads = tape.gradient(loss, train_vars)\n",
        "\n",
        "            # 10. Update the trainable weights\n",
        "            self.optimizer.apply_gradients(zip(grads, train_vars))\n",
        "\n",
        "        return batch_loss, batch_acc / float(self.num_captions_per_image)\n",
        "\n",
        "    def train_step(self, batch_data):\n",
        "        loss, acc = self._compute_loss_and_acc(batch_data)\n",
        "        self.loss_tracker.update_state(loss)\n",
        "        self.acc_tracker.update_state(acc)\n",
        "        return {\"loss\": self.loss_tracker.result(), \"acc\": self.acc_tracker.result()}\n",
        "\n",
        "    def test_step(self, batch_data):\n",
        "        loss, acc = self._compute_loss_and_acc(batch_data, training=False)\n",
        "        self.loss_tracker.update_state(loss)\n",
        "        self.acc_tracker.update_state(acc)\n",
        "        return {\"loss\": self.loss_tracker.result(), \"acc\": self.acc_tracker.result()}\n",
        "\n",
        "    @property\n",
        "    def metrics(self):\n",
        "        # We need to list our metrics here so the `reset_states()` can be\n",
        "        # called automatically.\n",
        "        return [self.loss_tracker, self.acc_tracker]\n",
        "\n",
        "\n",
        "cnn_model = get_cnn_model()\n",
        "encoder = TransformerEncoderBlock(\n",
        "    embed_dim=EMBED_DIM, dense_dim=FF_DIM, num_heads=NUM_HEADS\n",
        ")\n",
        "decoder = TransformerDecoderBlock(\n",
        "    embed_dim=EMBED_DIM, ff_dim=FF_DIM, num_heads=NUM_HEADS\n",
        ")\n",
        "caption_model = ImageCaptioningModel(\n",
        "    cnn_model=cnn_model, encoder=encoder, decoder=decoder\n",
        ")              "
      ],
      "execution_count": null,
      "outputs": [
        {
          "output_type": "stream",
          "text": [
            "Downloading data from https://storage.googleapis.com/keras-applications/efficientnetb0_notop.h5\n",
            "16711680/16705208 [==============================] - 0s 0us/step\n"
          ],
          "name": "stdout"
        }
      ]
    },
    {
      "cell_type": "markdown",
      "metadata": {
        "id": "e_Rnkdb9u1-h"
      },
      "source": [
        "## Model Training"
      ]
    },
    {
      "cell_type": "code",
      "metadata": {
        "colab": {
          "base_uri": "https://localhost:8080/"
        },
        "id": "oexD4MZGu514",
        "outputId": "e6474e4b-9d31-4b2c-b42e-bcf5556a3c57"
      },
      "source": [
        "# Define the loss function\n",
        "cross_entropy = keras.losses.SparseCategoricalCrossentropy(\n",
        "    from_logits=True, reduction=\"none\"\n",
        ")\n",
        "\n",
        "# EarlyStopping criteria\n",
        "early_stopping = keras.callbacks.EarlyStopping(patience=3, restore_best_weights=True)\n",
        "\n",
        "# Compile the model\n",
        "caption_model.compile(optimizer=keras.optimizers.Adam(), loss=cross_entropy)\n",
        "\n",
        "# Fit the model\n",
        "caption_model.fit(\n",
        "    train_dataset,\n",
        "    epochs=EPOCHS,\n",
        "    validation_data=valid_dataset,\n",
        "    callbacks=[early_stopping],\n",
        ")"
      ],
      "execution_count": null,
      "outputs": [
        {
          "output_type": "stream",
          "text": [
            "Epoch 1/30\n",
            "102/102 [==============================] - 195s 1s/step - loss: 17.9106 - acc: 0.3319 - val_loss: 15.0500 - val_acc: 0.4202\n",
            "Epoch 2/30\n",
            "102/102 [==============================] - 143s 1s/step - loss: 14.6182 - acc: 0.4232 - val_loss: 13.0344 - val_acc: 0.4525\n",
            "Epoch 3/30\n",
            "102/102 [==============================] - 142s 1s/step - loss: 13.4558 - acc: 0.4504 - val_loss: 11.7876 - val_acc: 0.4775\n",
            "Epoch 4/30\n",
            "102/102 [==============================] - 142s 1s/step - loss: 12.6538 - acc: 0.4652 - val_loss: 10.9182 - val_acc: 0.4978\n",
            "Epoch 5/30\n",
            "102/102 [==============================] - 139s 1s/step - loss: 12.0279 - acc: 0.4788 - val_loss: 10.3738 - val_acc: 0.5110\n",
            "Epoch 6/30\n",
            "102/102 [==============================] - 138s 1s/step - loss: 11.6439 - acc: 0.4863 - val_loss: 9.8369 - val_acc: 0.5265\n",
            "Epoch 7/30\n",
            "102/102 [==============================] - 138s 1s/step - loss: 11.1864 - acc: 0.4937 - val_loss: 9.3558 - val_acc: 0.5424\n",
            "Epoch 8/30\n",
            "102/102 [==============================] - 139s 1s/step - loss: 10.7507 - acc: 0.5079 - val_loss: 8.8730 - val_acc: 0.5590\n",
            "Epoch 9/30\n",
            "102/102 [==============================] - 138s 1s/step - loss: 10.3723 - acc: 0.5190 - val_loss: 8.6782 - val_acc: 0.5648\n",
            "Epoch 10/30\n",
            "102/102 [==============================] - 139s 1s/step - loss: 10.3564 - acc: 0.5134 - val_loss: 8.1909 - val_acc: 0.5818\n",
            "Epoch 11/30\n",
            "102/102 [==============================] - 140s 1s/step - loss: 9.8486 - acc: 0.5335 - val_loss: 7.8425 - val_acc: 0.5937\n",
            "Epoch 12/30\n",
            "102/102 [==============================] - 140s 1s/step - loss: 9.5885 - acc: 0.5439 - val_loss: 7.6062 - val_acc: 0.6034\n",
            "Epoch 13/30\n",
            "102/102 [==============================] - 141s 1s/step - loss: 9.3594 - acc: 0.5510 - val_loss: 7.3968 - val_acc: 0.6103\n",
            "Epoch 14/30\n",
            "102/102 [==============================] - 139s 1s/step - loss: 9.2098 - acc: 0.5568 - val_loss: 7.1343 - val_acc: 0.6219\n",
            "Epoch 15/30\n",
            "102/102 [==============================] - 138s 1s/step - loss: 9.0365 - acc: 0.5640 - val_loss: 7.0182 - val_acc: 0.6254\n",
            "Epoch 16/30\n",
            "102/102 [==============================] - 138s 1s/step - loss: 8.8548 - acc: 0.5666 - val_loss: 6.8138 - val_acc: 0.6334\n",
            "Epoch 17/30\n",
            "102/102 [==============================] - 139s 1s/step - loss: 8.6867 - acc: 0.5735 - val_loss: 6.5671 - val_acc: 0.6439\n",
            "Epoch 18/30\n",
            "102/102 [==============================] - 140s 1s/step - loss: 8.5487 - acc: 0.5791 - val_loss: 6.3965 - val_acc: 0.6516\n",
            "Epoch 19/30\n",
            "102/102 [==============================] - 139s 1s/step - loss: 8.4138 - acc: 0.5827 - val_loss: 6.3150 - val_acc: 0.6537\n",
            "Epoch 20/30\n",
            "102/102 [==============================] - 139s 1s/step - loss: 8.2445 - acc: 0.5864 - val_loss: 6.1415 - val_acc: 0.6624\n",
            "Epoch 21/30\n",
            "102/102 [==============================] - 139s 1s/step - loss: 8.1039 - acc: 0.5938 - val_loss: 5.9854 - val_acc: 0.6693\n",
            "Epoch 22/30\n",
            "102/102 [==============================] - 139s 1s/step - loss: 8.0490 - acc: 0.5956 - val_loss: 5.8397 - val_acc: 0.6753\n",
            "Epoch 23/30\n",
            "102/102 [==============================] - 140s 1s/step - loss: 7.9214 - acc: 0.5996 - val_loss: 5.6966 - val_acc: 0.6840\n",
            "Epoch 24/30\n",
            "102/102 [==============================] - 139s 1s/step - loss: 7.8314 - acc: 0.6064 - val_loss: 5.6255 - val_acc: 0.6849\n",
            "Epoch 25/30\n",
            "102/102 [==============================] - 139s 1s/step - loss: 7.7326 - acc: 0.6082 - val_loss: 5.4991 - val_acc: 0.6908\n",
            "Epoch 26/30\n",
            "102/102 [==============================] - 139s 1s/step - loss: 7.6602 - acc: 0.6129 - val_loss: 5.4842 - val_acc: 0.6906\n",
            "Epoch 27/30\n",
            "102/102 [==============================] - 139s 1s/step - loss: 7.6016 - acc: 0.6109 - val_loss: 5.3259 - val_acc: 0.6967\n",
            "Epoch 28/30\n",
            "102/102 [==============================] - 139s 1s/step - loss: 7.5625 - acc: 0.6172 - val_loss: 6.4844 - val_acc: 0.6496\n",
            "Epoch 29/30\n",
            "102/102 [==============================] - 138s 1s/step - loss: 8.1521 - acc: 0.5670 - val_loss: 5.3492 - val_acc: 0.6970\n",
            "Epoch 30/30\n",
            "102/102 [==============================] - 139s 1s/step - loss: 7.3947 - acc: 0.6234 - val_loss: 5.1949 - val_acc: 0.7045\n"
          ],
          "name": "stdout"
        },
        {
          "output_type": "execute_result",
          "data": {
            "text/plain": [
              "<tensorflow.python.keras.callbacks.History at 0x7fcb8792b410>"
            ]
          },
          "metadata": {
            "tags": []
          },
          "execution_count": 8
        }
      ]
    },
    {
      "cell_type": "markdown",
      "metadata": {
        "id": "jdrX9FBhCeum"
      },
      "source": []
    },
    {
      "cell_type": "markdown",
      "metadata": {
        "id": "XdNvpHypvbtD"
      },
      "source": [
        "# PREDICTIONS "
      ]
    },
    {
      "cell_type": "code",
      "metadata": {
        "colab": {
          "base_uri": "https://localhost:8080/",
          "height": 305
        },
        "id": "8YjOu3VSvhSH",
        "outputId": "b9691cb6-995c-499b-c0ec-911943c083b1"
      },
      "source": [
        "vocab = vectorization.get_vocabulary()\n",
        "index_lookup = dict(zip(range(len(vocab)), vocab))\n",
        "max_decoded_sentence_length = SEQ_LENGTH - 1\n",
        "valid_images = list(valid_data.keys())\n",
        "\n",
        "def generate_caption(a):\n",
        "\n",
        "    # Select a random image from the validation dataset\n",
        "    # sample_img = np.random.choice(valid_images)\n",
        "    #print(sample_img)\n",
        "    # sample_img = imagee\n",
        "\n",
        "    # Read the image from the disk\n",
        "    sample_img = read_image(a)            ##sample_img = read_image(imagee)   ##sample_img=imagee.valid_data(0)\n",
        "    img = sample_img.numpy().astype(np.uint8)\n",
        "    plt.imshow(img)\n",
        "    plt.show()\n",
        "\n",
        "    # Pass the image to the CNN\n",
        "    img = tf.expand_dims(sample_img, 0)\n",
        "    img = caption_model.cnn_model(img)\n",
        "\n",
        "    # Pass the image features to the Transformer encoder\n",
        "    encoded_img = caption_model.encoder(img, training=False)\n",
        "\n",
        "    # Generate the caption using the Transformer decoder\n",
        "    decoded_caption = \"<start> \"\n",
        "    for i in range(max_decoded_sentence_length):\n",
        "        tokenized_caption = vectorization([decoded_caption])[:, :-1]\n",
        "        mask = tf.math.not_equal(tokenized_caption, 0)\n",
        "        predictions = caption_model.decoder(\n",
        "            tokenized_caption, encoded_img, training=False, mask=mask\n",
        "        )\n",
        "        sampled_token_index = np.argmax(predictions[0, i, :])\n",
        "        sampled_token = index_lookup[sampled_token_index]\n",
        "        if sampled_token == \" <end>\":\n",
        "            break\n",
        "        decoded_caption += \" \" + sampled_token\n",
        "\n",
        "    print(\"PREDICTED CAPTION:\", end=\" \")\n",
        "    print(decoded_caption.replace(\"<start> \", \"\").replace(\" <end>\", \"\").strip())\n",
        "\n",
        "\n",
        " \n",
        "sample_img = np.random.choice(valid_images)\n",
        "# print(sample_img)\n",
        "a=valid_images[28]\n",
        "print(a)\n",
        "#photu=\"\"\n",
        "# Check predictions for a few samples\n",
        "generate_caption(a)\n",
        "\n",
        "# generate_caption()\n",
        "# generate_caption()\n"
      ],
      "execution_count": null,
      "outputs": [
        {
          "output_type": "stream",
          "text": [
            "Flicker8k_Dataset/3025315215_a5d367971a.jpg\n"
          ],
          "name": "stdout"
        },
        {
          "output_type": "display_data",
          "data": {
            "image/png": "[encoded data removed]",
            "text/plain": [
              "<Figure size 432x288 with 1 Axes>"
            ]
          },
          "metadata": {
            "tags": [],
            "needs_background": "light"
          }
        },
        {
          "output_type": "stream",
          "text": [
            "PREDICTED CAPTION: a black dog is emerging from a orange tunnel\n"
          ],
          "name": "stdout"
        }
      ]
    },
    {
      "cell_type": "code",
      "metadata": {
        "colab": {
          "base_uri": "https://localhost:8080/",
          "height": 168
        },
        "id": "W2NCNZwd5dDe",
        "outputId": "173e21ac-a56a-44c6-9fa8-88d8833f71c0"
      },
      "source": [
        "caption_model.val_loss"
      ],
      "execution_count": null,
      "outputs": [
        {
          "output_type": "error",
          "ename": "AttributeError",
          "evalue": "ignored",
          "traceback": [
            "\u001b[0;31m---------------------------------------------------------------------------\u001b[0m",
            "\u001b[0;31mAttributeError\u001b[0m                            Traceback (most recent call last)",
            "\u001b[0;32m<ipython-input-106-9d7c0c655d90>\u001b[0m in \u001b[0;36m<module>\u001b[0;34m()\u001b[0m\n\u001b[0;32m----> 1\u001b[0;31m \u001b[0mcaption_model\u001b[0m\u001b[0;34m.\u001b[0m\u001b[0mval_loss\u001b[0m\u001b[0;34m\u001b[0m\u001b[0;34m\u001b[0m\u001b[0m\n\u001b[0m",
            "\u001b[0;31mAttributeError\u001b[0m: 'ImageCaptioningModel' object has no attribute 'val_loss'"
          ]
        }
      ]
    },
    {
      "cell_type": "code",
      "metadata": {
        "colab": {
          "base_uri": "https://localhost:8080/",
          "height": 246
        },
        "id": "bO7ZL8T74nor",
        "outputId": "4126128b-b2af-40cb-f3d2-4f0e9c625151"
      },
      "source": [
        "import matplotlib.pyplot as plt\n",
        "\n",
        "plt.figure(0)\n",
        "plt.plot(caption_model.caption_model['loss'],'g')\n",
        "# plt.plot(history.history['accuracy'],'r')\n",
        "plt.show()"
      ],
      "execution_count": null,
      "outputs": [
        {
          "output_type": "error",
          "ename": "NameError",
          "evalue": "ignored",
          "traceback": [
            "\u001b[0;31m---------------------------------------------------------------------------\u001b[0m",
            "\u001b[0;31mNameError\u001b[0m                                 Traceback (most recent call last)",
            "\u001b[0;32m<ipython-input-1-dfa11ebd90dd>\u001b[0m in \u001b[0;36m<module>\u001b[0;34m()\u001b[0m\n\u001b[1;32m      2\u001b[0m \u001b[0;34m\u001b[0m\u001b[0m\n\u001b[1;32m      3\u001b[0m \u001b[0mplt\u001b[0m\u001b[0;34m.\u001b[0m\u001b[0mfigure\u001b[0m\u001b[0;34m(\u001b[0m\u001b[0;36m0\u001b[0m\u001b[0;34m)\u001b[0m\u001b[0;34m\u001b[0m\u001b[0;34m\u001b[0m\u001b[0m\n\u001b[0;32m----> 4\u001b[0;31m \u001b[0mplt\u001b[0m\u001b[0;34m.\u001b[0m\u001b[0mplot\u001b[0m\u001b[0;34m(\u001b[0m\u001b[0mcaption_model\u001b[0m\u001b[0;34m.\u001b[0m\u001b[0mcaption_model\u001b[0m\u001b[0;34m[\u001b[0m\u001b[0;34m'loss'\u001b[0m\u001b[0;34m]\u001b[0m\u001b[0;34m,\u001b[0m\u001b[0;34m'g'\u001b[0m\u001b[0;34m)\u001b[0m\u001b[0;34m\u001b[0m\u001b[0;34m\u001b[0m\u001b[0m\n\u001b[0m\u001b[1;32m      5\u001b[0m \u001b[0;31m# plt.plot(history.history['accuracy'],'r')\u001b[0m\u001b[0;34m\u001b[0m\u001b[0;34m\u001b[0m\u001b[0;34m\u001b[0m\u001b[0m\n\u001b[1;32m      6\u001b[0m \u001b[0mplt\u001b[0m\u001b[0;34m.\u001b[0m\u001b[0mshow\u001b[0m\u001b[0;34m(\u001b[0m\u001b[0;34m)\u001b[0m\u001b[0;34m\u001b[0m\u001b[0;34m\u001b[0m\u001b[0m\n",
            "\u001b[0;31mNameError\u001b[0m: name 'caption_model' is not defined"
          ]
        },
        {
          "output_type": "display_data",
          "data": {
            "text/plain": [
              "<Figure size 432x288 with 0 Axes>"
            ]
          },
          "metadata": {
            "tags": []
          }
        }
      ]
    },
    {
      "cell_type": "code",
      "metadata": {
        "id": "2keYIOxzoKUi"
      },
      "source": [
        "A black dog running through a long orange tunnel.\n",
        "a brown dog coming out of an orange and yellow tunnel\n",
        "A brown dog running through a large orange tube.\n",
        "a brown dog runs through a orange tunnel.\n",
        "The dog is running through a tunnel"
      ],
      "execution_count": null,
      "outputs": []
    },
    {
      "cell_type": "code",
      "metadata": {
        "colab": {
          "base_uri": "https://localhost:8080/"
        },
        "id": "m4COgli-0VbN",
        "outputId": "06494b81-5e85-426f-80a3-fb5a5fb05bff"
      },
      "source": [
        "import nltk\n",
        "import nltk\n",
        "nltk.download('punkt')"
      ],
      "execution_count": null,
      "outputs": [
        {
          "output_type": "stream",
          "text": [
            "[nltk_data] Downloading package punkt to /root/nltk_data...\n",
            "[nltk_data]   Package punkt is already up-to-date!\n"
          ],
          "name": "stdout"
        },
        {
          "output_type": "execute_result",
          "data": {
            "text/plain": [
              "True"
            ]
          },
          "metadata": {
            "tags": []
          },
          "execution_count": 90
        }
      ]
    },
    {
      "cell_type": "code",
      "metadata": {
        "colab": {
          "base_uri": "https://localhost:8080/"
        },
        "id": "bubwOT3g3qr7",
        "outputId": "e7395c5f-5e95-48da-9530-1f3b4548a209"
      },
      "source": [
        "!pip install meteor"
      ],
      "execution_count": null,
      "outputs": [
        {
          "output_type": "stream",
          "text": [
            "Collecting meteor\n",
            "\u001b[?25l  Downloading https://files.pythonhosted.org/packages/94/20/86ddfb0467951464b6b23a1d37c342cb2d1d32721b1601ffdecd33027c7b/Meteor-0.1.3.zip (6.7MB)\n",
            "\u001b[K     |████████████████████████████████| 6.7MB 8.3MB/s \n",
            "\u001b[?25hRequirement already satisfied: Pillow in /usr/local/lib/python3.7/dist-packages (from meteor) (7.1.2)\n",
            "Collecting qrcode\n",
            "  Downloading https://files.pythonhosted.org/packages/42/87/4a3a77e59ab7493d64da1f69bf1c2e899a4cf81e51b2baa855e8cc8115be/qrcode-6.1-py2.py3-none-any.whl\n",
            "Requirement already satisfied: six in /usr/local/lib/python3.7/dist-packages (from qrcode->meteor) (1.15.0)\n",
            "Building wheels for collected packages: meteor\n",
            "  Building wheel for meteor (setup.py) ... \u001b[?25l\u001b[?25hdone\n",
            "  Created wheel for meteor: filename=Meteor-0.1.3-cp37-none-any.whl size=6712005 sha256=6d2965e616e390cf473c723821ea263c4be1fb89056175632aaae953928f2a57\n",
            "  Stored in directory: /root/.cache/pip/wheels/d6/39/15/7e7329c3e6fb8f8130d6317bb6b7b2c20430c694837de88009\n",
            "Successfully built meteor\n",
            "Installing collected packages: qrcode, meteor\n",
            "Successfully installed meteor-0.1.3 qrcode-6.1\n"
          ],
          "name": "stdout"
        }
      ]
    },
    {
      "cell_type": "code",
      "metadata": {
        "colab": {
          "base_uri": "https://localhost:8080/",
          "height": 318
        },
        "id": "OuY-pQqC4OJo",
        "outputId": "494f7cdc-ad01-4153-842c-c4aa8982e5ac"
      },
      "source": [
        "!pip install -U nltk"
      ],
      "execution_count": null,
      "outputs": [
        {
          "output_type": "stream",
          "text": [
            "Collecting nltk\n",
            "\u001b[?25l  Downloading https://files.pythonhosted.org/packages/5e/37/9532ddd4b1bbb619333d5708aaad9bf1742f051a664c3c6fa6632a105fd8/nltk-3.6.2-py3-none-any.whl (1.5MB)\n",
            "\u001b[K     |████████████████████████████████| 1.5MB 7.1MB/s \n",
            "\u001b[?25hRequirement already satisfied, skipping upgrade: joblib in /usr/local/lib/python3.7/dist-packages (from nltk) (1.0.1)\n",
            "Requirement already satisfied, skipping upgrade: regex in /usr/local/lib/python3.7/dist-packages (from nltk) (2019.12.20)\n",
            "Requirement already satisfied, skipping upgrade: click in /usr/local/lib/python3.7/dist-packages (from nltk) (7.1.2)\n",
            "Requirement already satisfied, skipping upgrade: tqdm in /usr/local/lib/python3.7/dist-packages (from nltk) (4.41.1)\n",
            "Installing collected packages: nltk\n",
            "  Found existing installation: nltk 3.2.5\n",
            "    Uninstalling nltk-3.2.5:\n",
            "      Successfully uninstalled nltk-3.2.5\n",
            "Successfully installed nltk-3.6.2\n"
          ],
          "name": "stdout"
        },
        {
          "output_type": "display_data",
          "data": {
            "application/vnd.colab-display-data+json": {
              "pip_warning": {
                "packages": [
                  "nltk"
                ]
              }
            }
          },
          "metadata": {
            "tags": []
          }
        }
      ]
    },
    {
      "cell_type": "code",
      "metadata": {
        "colab": {
          "base_uri": "https://localhost:8080/",
          "height": 381
        },
        "id": "xvam0J533Zjp",
        "outputId": "3ecc3b51-433b-4976-c1b6-2a4cdb464998"
      },
      "source": [
        "# from meteor import IdentityStage\n",
        "# from meteor import Language\n",
        "# from meteor import StemmingStage\n",
        "from meteor import meteor\n",
        "\n",
        "# setup matching stages with weights\n",
        "# stages = [IdentityStage(1.0), StemmingStage(0.6, Language.german)]\n",
        "\n",
        "hypothesis = \"Hi this is abhisht \"\n",
        "reference = \"=Hello Abhisht\"\n",
        "\n",
        "score = meteor(hypothesis, reference)"
      ],
      "execution_count": null,
      "outputs": [
        {
          "output_type": "error",
          "ename": "ImportError",
          "evalue": "ignored",
          "traceback": [
            "\u001b[0;31m---------------------------------------------------------------------------\u001b[0m",
            "\u001b[0;31mImportError\u001b[0m                               Traceback (most recent call last)",
            "\u001b[0;32m<ipython-input-100-588377ffa840>\u001b[0m in \u001b[0;36m<module>\u001b[0;34m()\u001b[0m\n\u001b[1;32m      2\u001b[0m \u001b[0;31m# from meteor import Language\u001b[0m\u001b[0;34m\u001b[0m\u001b[0;34m\u001b[0m\u001b[0;34m\u001b[0m\u001b[0m\n\u001b[1;32m      3\u001b[0m \u001b[0;31m# from meteor import StemmingStage\u001b[0m\u001b[0;34m\u001b[0m\u001b[0;34m\u001b[0m\u001b[0;34m\u001b[0m\u001b[0m\n\u001b[0;32m----> 4\u001b[0;31m \u001b[0;32mfrom\u001b[0m \u001b[0mmeteor\u001b[0m \u001b[0;32mimport\u001b[0m \u001b[0mmeteor\u001b[0m\u001b[0;34m\u001b[0m\u001b[0;34m\u001b[0m\u001b[0m\n\u001b[0m\u001b[1;32m      5\u001b[0m \u001b[0;34m\u001b[0m\u001b[0m\n\u001b[1;32m      6\u001b[0m \u001b[0;31m# setup matching stages with weights\u001b[0m\u001b[0;34m\u001b[0m\u001b[0;34m\u001b[0m\u001b[0;34m\u001b[0m\u001b[0m\n",
            "\u001b[0;31mImportError\u001b[0m: cannot import name 'meteor' from 'meteor' (/usr/local/lib/python3.7/dist-packages/meteor/__init__.py)",
            "",
            "\u001b[0;31m---------------------------------------------------------------------------\u001b[0;32m\nNOTE: If your import is failing due to a missing package, you can\nmanually install dependencies using either !pip or !apt.\n\nTo view examples of installing some common dependencies, click the\n\"Open Examples\" button below.\n\u001b[0;31m---------------------------------------------------------------------------\u001b[0m\n"
          ]
        }
      ]
    },
    {
      "cell_type": "code",
      "metadata": {
        "colab": {
          "base_uri": "https://localhost:8080/",
          "height": 204
        },
        "id": "7BcgseOBzgED",
        "outputId": "4d87f360-91f7-45f9-b0d3-0379ac8c1992"
      },
      "source": [
        "print (nltk.translate.meteor_score.allign_words([\"a black dog running through a long orange tunnel\", \"a brown dog coming out of an orange and yellow tunnel\", \n",
        "                                                  'A brown dog running through a large orange tube','a brown dog runs through a orange tunnel',\n",
        "                                                  'The dog is running through a tunnel'], \"a black dog is emerging from a orange tunnel\"))"
      ],
      "execution_count": null,
      "outputs": [
        {
          "output_type": "error",
          "ename": "AttributeError",
          "evalue": "ignored",
          "traceback": [
            "\u001b[0;31m---------------------------------------------------------------------------\u001b[0m",
            "\u001b[0;31mAttributeError\u001b[0m                            Traceback (most recent call last)",
            "\u001b[0;32m<ipython-input-2-ccc7296f2f4c>\u001b[0m in \u001b[0;36m<module>\u001b[0;34m()\u001b[0m\n\u001b[0;32m----> 1\u001b[0;31m print (nltk.translate.meteor_score.allign_words([\"a black dog running through a long orange tunnel\", \"a brown dog coming out of an orange and yellow tunnel\", \n\u001b[0m\u001b[1;32m      2\u001b[0m                                                   \u001b[0;34m'A brown dog running through a large orange tube'\u001b[0m\u001b[0;34m,\u001b[0m\u001b[0;34m'a brown dog runs through a orange tunnel'\u001b[0m\u001b[0;34m,\u001b[0m\u001b[0;34m\u001b[0m\u001b[0;34m\u001b[0m\u001b[0m\n\u001b[1;32m      3\u001b[0m                                                   'The dog is running through a tunnel'], \"a black dog is emerging from a orange tunnel\"))\n",
            "\u001b[0;31mAttributeError\u001b[0m: module 'nltk.translate' has no attribute 'meteor_score'"
          ]
        }
      ]
    },
    {
      "cell_type": "code",
      "metadata": {
        "id": "ZQJdGFQ90UpG"
      },
      "source": [],
      "execution_count": null,
      "outputs": []
    },
    {
      "cell_type": "code",
      "metadata": {
        "id": "lY3MbnZlqn4f"
      },
      "source": [
        "A big dog be bite a small dog on the leg\n",
        "A dog bite the tail of another dog .\n",
        "A large brown dog sniff a small white dog's behind .\n",
        "a large brown dog try to catch a small white puppy from behind\n",
        "A large brown dog be sniff a small white dog ."
      ],
      "execution_count": null,
      "outputs": []
    },
    {
      "cell_type": "code",
      "metadata": {
        "colab": {
          "base_uri": "https://localhost:8080/"
        },
        "id": "yhGsJKV0oRmc",
        "outputId": "eabc9dda-7e86-4865-ca1c-4fe5a727aab1"
      },
      "source": [
        "import nltk\n",
        "nltk.download('punkt')\n",
        "from nltk.util import ngrams\n",
        "\n",
        "text = \"a large brown dog sniffs a smaller white dog s back\"\n",
        "\n",
        "words = nltk.word_tokenize(text)\n",
        "print(f\"words: {words}\")\n"
      ],
      "execution_count": null,
      "outputs": [
        {
          "output_type": "stream",
          "text": [
            "[nltk_data] Downloading package punkt to /root/nltk_data...\n",
            "[nltk_data]   Unzipping tokenizers/punkt.zip.\n",
            "words: ['a', 'large', 'brown', 'dog', 'sniffs', 'a', 'smaller', 'white', 'dog', 's', 'back']\n"
          ],
          "name": "stdout"
        }
      ]
    },
    {
      "cell_type": "code",
      "metadata": {
        "id": "qDSZq-jTxjvW"
      },
      "source": [],
      "execution_count": null,
      "outputs": []
    },
    {
      "cell_type": "code",
      "metadata": {
        "colab": {
          "base_uri": "https://localhost:8080/"
        },
        "id": "woEWOxP8rNmR",
        "outputId": "961fb88a-611b-4a6d-aa60-fb84d985e467"
      },
      "source": [
        "#Image28\n",
        "from nltk.translate.bleu_score import sentence_bleu\n",
        "reference = [['a', 'big', 'dog', 'be', 'bite', 'a', 'small', 'dog', 'on', 'the', 'leg'],\n",
        "             ['a', 'dog', 'bite', 'the', 'tail', 'of', 'another', 'dog'],\n",
        "             ['a', 'large', 'brown', 'dog', 'sniff', 'a', 'small', 'white', 'dog', \"'s\", 'behind'],\n",
        "             ['a', 'large', 'brown', 'dog', 'try', 'to', 'catch', 'a', 'small', 'white', 'puppy', 'from', 'behind'],\n",
        "            ['a', 'large', 'brown', 'dog', 'be', 'sniff', 'a', 'small', 'white', 'dog']]\n",
        "candidate = ['a', 'large', 'brown', 'dog', 'sniff', 'a', 'smaller', 'white', 'dog', 'back']\n",
        "\n",
        "score1 = sentence_bleu(reference, candidate,weights=(1, 0, 0, 0))\n",
        "score2 = sentence_bleu(reference, candidate,weights=(0, 1, 0, 0))\n",
        "score3 = sentence_bleu(reference, candidate,weights=(0, 0, 1, 0))\n",
        "score4 = sentence_bleu(reference, candidate,weights=(0, 0, 0, 1))\n",
        "# a=score\n",
        "print(score1)\n",
        "print(score2)\n",
        "print(score3)\n",
        "print(score4)"
      ],
      "execution_count": null,
      "outputs": [
        {
          "output_type": "stream",
          "text": [
            "0.8\n",
            "0.6666666666666666\n",
            "0.5\n",
            "0.42857142857142855\n"
          ],
          "name": "stdout"
        }
      ]
    },
    {
      "cell_type": "code",
      "metadata": {
        "colab": {
          "base_uri": "https://localhost:8080/"
        },
        "id": "gziOgyJc8f-6",
        "outputId": "eba8485e-0875-4a0b-b622-d3bd9a577292"
      },
      "source": [
        "pip install \"git+https://github.com/salaniz/pycocoevalcap.git\""
      ],
      "execution_count": null,
      "outputs": [
        {
          "output_type": "stream",
          "text": [
            "Collecting git+https://github.com/salaniz/pycocoevalcap.git\n",
            "  Cloning https://github.com/salaniz/pycocoevalcap.git to /tmp/pip-req-build-oh1wmnl_\n",
            "  Running command git clone -q https://github.com/salaniz/pycocoevalcap.git /tmp/pip-req-build-oh1wmnl_\n",
            "Requirement already satisfied: pycocotools>=2.0.2 in /usr/local/lib/python3.7/dist-packages (from pycocoevalcap==1.2) (2.0.2)\n",
            "Requirement already satisfied: setuptools>=18.0 in /usr/local/lib/python3.7/dist-packages (from pycocotools>=2.0.2->pycocoevalcap==1.2) (57.0.0)\n",
            "Requirement already satisfied: matplotlib>=2.1.0 in /usr/local/lib/python3.7/dist-packages (from pycocotools>=2.0.2->pycocoevalcap==1.2) (3.2.2)\n",
            "Requirement already satisfied: cython>=0.27.3 in /usr/local/lib/python3.7/dist-packages (from pycocotools>=2.0.2->pycocoevalcap==1.2) (0.29.23)\n",
            "Requirement already satisfied: numpy>=1.11 in /usr/local/lib/python3.7/dist-packages (from matplotlib>=2.1.0->pycocotools>=2.0.2->pycocoevalcap==1.2) (1.19.5)\n",
            "Requirement already satisfied: cycler>=0.10 in /usr/local/lib/python3.7/dist-packages (from matplotlib>=2.1.0->pycocotools>=2.0.2->pycocoevalcap==1.2) (0.10.0)\n",
            "Requirement already satisfied: kiwisolver>=1.0.1 in /usr/local/lib/python3.7/dist-packages (from matplotlib>=2.1.0->pycocotools>=2.0.2->pycocoevalcap==1.2) (1.3.1)\n",
            "Requirement already satisfied: pyparsing!=2.0.4,!=2.1.2,!=2.1.6,>=2.0.1 in /usr/local/lib/python3.7/dist-packages (from matplotlib>=2.1.0->pycocotools>=2.0.2->pycocoevalcap==1.2) (2.4.7)\n",
            "Requirement already satisfied: python-dateutil>=2.1 in /usr/local/lib/python3.7/dist-packages (from matplotlib>=2.1.0->pycocotools>=2.0.2->pycocoevalcap==1.2) (2.8.1)\n",
            "Requirement already satisfied: six in /usr/local/lib/python3.7/dist-packages (from cycler>=0.10->matplotlib>=2.1.0->pycocotools>=2.0.2->pycocoevalcap==1.2) (1.15.0)\n",
            "Building wheels for collected packages: pycocoevalcap\n",
            "  Building wheel for pycocoevalcap (setup.py) ... \u001b[?25l\u001b[?25hdone\n",
            "  Created wheel for pycocoevalcap: filename=pycocoevalcap-1.2-cp37-none-any.whl size=104312216 sha256=f7b51cfaf75f038b24bd9005851dce6b45fe9722a984a5a964baeea0a9ceba8f\n",
            "  Stored in directory: /tmp/pip-ephem-wheel-cache-g36pjm6c/wheels/43/c5/1e/8c540096ae74b7789563f1ba2a0e195308ee86f445a0cda110\n",
            "Successfully built pycocoevalcap\n",
            "Installing collected packages: pycocoevalcap\n",
            "Successfully installed pycocoevalcap-1.2\n"
          ],
          "name": "stdout"
        }
      ]
    },
    {
      "cell_type": "code",
      "metadata": {
        "id": "1x0mlBJn8LKy"
      },
      "source": [
        "from pycocoevalcap.cider.cider import Cider"
      ],
      "execution_count": null,
      "outputs": []
    },
    {
      "cell_type": "code",
      "metadata": {
        "id": "pOF3qy5YpVr8",
        "colab": {
          "base_uri": "https://localhost:8080/"
        },
        "outputId": "19b9b60c-57bc-4024-bfc1-0c499405192d"
      },
      "source": [
        "reference = [['a', 'black', 'dog', 'running', 'through', 'a', 'long', 'orange', 'tunnel'],\n",
        "             ['a', 'brown', 'dog', 'coming', 'out', 'of', 'an', 'orange', 'and', 'yellow', 'tunnel'],\n",
        "             ['a', 'brown', 'dog', 'running', 'through', 'a', 'large', 'orange', 'tube'],['a', 'brown', 'dog', 'runs', 'through', 'a', 'orange', 'tunnel'],\n",
        "             ['The', 'dog', 'is', 'running', 'through', 'a', 'tunnel']]\n",
        "candidate = ['a', 'black', 'dog', 'is', 'emerging', 'from', 'a', 'orange', 'tunnel']\n",
        "scorer = Cider(reference,candidate)\n",
        "print(scorer)"
      ],
      "execution_count": null,
      "outputs": [
        {
          "output_type": "stream",
          "text": [
            "<pycocoevalcap.cider.cider.Cider object at 0x7f7e546b09d0>\n"
          ],
          "name": "stdout"
        }
      ]
    },
    {
      "cell_type": "code",
      "metadata": {
        "colab": {
          "base_uri": "https://localhost:8080/"
        },
        "id": "KhPJm56NoYER",
        "outputId": "4d1ce48b-af61-42d4-df64-c8fe8f305505"
      },
      "source": [
        "#Image28\n",
        "from nltk.translate.bleu_score import sentence_bleu\n",
        "reference = [['a', 'black', 'dog', 'running', 'through', 'a', 'long', 'orange', 'tunnel'],\n",
        "             ['a', 'brown', 'dog', 'coming', 'out', 'of', 'an', 'orange', 'and', 'yellow', 'tunnel'],\n",
        "             ['a', 'brown', 'dog', 'running', 'through', 'a', 'large', 'orange', 'tube'],['a', 'brown', 'dog', 'runs', 'through', 'a', 'orange', 'tunnel'],\n",
        "             ['The', 'dog', 'is', 'running', 'through', 'a', 'tunnel']]\n",
        "candidate = ['a', 'black', 'dog', 'is', 'emerging', 'from', 'a', 'orange', 'tunnel']\n",
        "\n",
        "score1 = sentence_bleu(reference, candidate,weights=(1, 0, 0, 0))\n",
        "score2 = sentence_bleu(reference, candidate,weights=(0, 1, 0, 0))\n",
        "score3 = sentence_bleu(reference, candidate,weights=(0, 0, 1, 0))\n",
        "score4 = sentence_bleu(reference, candidate,weights=(0, 0, 0, 1))\n",
        "# a=score\n",
        "print(score1)\n",
        "print(score2)\n",
        "print(score3)\n",
        "print(score4)"
      ],
      "execution_count": null,
      "outputs": [
        {
          "output_type": "stream",
          "text": [
            "0.7777777777777778\n",
            "0.625\n",
            "0.2857142857142857\n",
            "1.0\n"
          ],
          "name": "stdout"
        },
        {
          "output_type": "stream",
          "text": [
            "/usr/local/lib/python3.7/dist-packages/nltk/translate/bleu_score.py:490: UserWarning: \n",
            "Corpus/Sentence contains 0 counts of 4-gram overlaps.\n",
            "BLEU scores might be undesirable; use SmoothingFunction().\n",
            "  warnings.warn(_msg)\n"
          ],
          "name": "stderr"
        }
      ]
    },
    {
      "cell_type": "code",
      "metadata": {
        "id": "NlDYv7ifzBOi"
      },
      "source": [
        "# A child jump from a slide into a pool\n",
        "# A girl go down a yellow slide into a pool\n",
        "# A girl be jump into a pool with two slide behind her\n",
        "# A little girl jump from a yellow ladder into a swim pool\n",
        "# A young girl in a blue bathe suit jump off of a yellow slide into the water"
      ],
      "execution_count": null,
      "outputs": []
    },
    {
      "cell_type": "code",
      "metadata": {
        "colab": {
          "base_uri": "https://localhost:8080/"
        },
        "id": "seC6Jz1S6MTJ",
        "outputId": "3aa08ba8-18f4-4500-dce9-e7d6c0909485"
      },
      "source": [
        "pip install nltk"
      ],
      "execution_count": null,
      "outputs": [
        {
          "output_type": "stream",
          "text": [
            "Requirement already satisfied: nltk in /usr/local/lib/python3.7/dist-packages (3.2.5)\n",
            "Requirement already satisfied: six in /usr/local/lib/python3.7/dist-packages (from nltk) (1.15.0)\n"
          ],
          "name": "stdout"
        }
      ]
    },
    {
      "cell_type": "code",
      "metadata": {
        "id": "cG2K0bZW6QHJ",
        "colab": {
          "base_uri": "https://localhost:8080/",
          "height": 128
        },
        "outputId": "c0e5188c-32a0-4851-bf3c-b1b85036466e"
      },
      "source": [
        "pip3 install nltk"
      ],
      "execution_count": null,
      "outputs": [
        {
          "output_type": "error",
          "ename": "SyntaxError",
          "evalue": "ignored",
          "traceback": [
            "\u001b[0;36m  File \u001b[0;32m\"<ipython-input-6-8a2a85c15ed3>\"\u001b[0;36m, line \u001b[0;32m1\u001b[0m\n\u001b[0;31m    pip3 install nltk\u001b[0m\n\u001b[0m               ^\u001b[0m\n\u001b[0;31mSyntaxError\u001b[0m\u001b[0;31m:\u001b[0m invalid syntax\n"
          ]
        }
      ]
    },
    {
      "cell_type": "code",
      "metadata": {
        "id": "kTEIpVoFzTEW",
        "colab": {
          "base_uri": "https://localhost:8080/",
          "height": 330
        },
        "outputId": "d881bda1-0a08-47fe-b8f6-8c5cc64087b8"
      },
      "source": [
        "import nltk\n",
        "import sys\n",
        "from nltk.translate.meteor_score import meteor_score"
      ],
      "execution_count": null,
      "outputs": [
        {
          "output_type": "error",
          "ename": "ModuleNotFoundError",
          "evalue": "ignored",
          "traceback": [
            "\u001b[0;31m---------------------------------------------------------------------------\u001b[0m",
            "\u001b[0;31mModuleNotFoundError\u001b[0m                       Traceback (most recent call last)",
            "\u001b[0;32m<ipython-input-4-579848713aad>\u001b[0m in \u001b[0;36m<module>\u001b[0;34m()\u001b[0m\n\u001b[1;32m      1\u001b[0m \u001b[0;32mimport\u001b[0m \u001b[0mnltk\u001b[0m\u001b[0;34m\u001b[0m\u001b[0;34m\u001b[0m\u001b[0m\n\u001b[1;32m      2\u001b[0m \u001b[0;32mimport\u001b[0m \u001b[0msys\u001b[0m\u001b[0;34m\u001b[0m\u001b[0;34m\u001b[0m\u001b[0m\n\u001b[0;32m----> 3\u001b[0;31m \u001b[0;32mfrom\u001b[0m \u001b[0mnltk\u001b[0m\u001b[0;34m.\u001b[0m\u001b[0mtranslate\u001b[0m\u001b[0;34m.\u001b[0m\u001b[0mmeteor_score\u001b[0m \u001b[0;32mimport\u001b[0m \u001b[0mmeteor_score\u001b[0m\u001b[0;34m\u001b[0m\u001b[0;34m\u001b[0m\u001b[0m\n\u001b[0m",
            "\u001b[0;31mModuleNotFoundError\u001b[0m: No module named 'nltk.translate.meteor_score'",
            "",
            "\u001b[0;31m---------------------------------------------------------------------------\u001b[0;32m\nNOTE: If your import is failing due to a missing package, you can\nmanually install dependencies using either !pip or !apt.\n\nTo view examples of installing some common dependencies, click the\n\"Open Examples\" button below.\n\u001b[0;31m---------------------------------------------------------------------------\u001b[0m\n"
          ]
        }
      ]
    },
    {
      "cell_type": "code",
      "metadata": {
        "colab": {
          "base_uri": "https://localhost:8080/"
        },
        "id": "A6DN9QSQvM4v",
        "outputId": "dfb723b7-2762-4a10-8d81-714fb4390e1d"
      },
      "source": [
        "import nltk\n",
        "nltk.download('punkt')\n",
        "from nltk.util import ngrams\n",
        "\n",
        "text = \"A little girl jumps from the yellow ladder into the swimming pool .\"\n",
        "\n",
        "words = nltk.word_tokenize(text)\n",
        "print(f\"words: {words}\")\n",
        "\n",
        "output = list(ngrams(words, 2))\n",
        "print(f\"output: {output}\")"
      ],
      "execution_count": null,
      "outputs": [
        {
          "output_type": "stream",
          "text": [
            "[nltk_data] Downloading package punkt to /root/nltk_data...\n",
            "[nltk_data]   Package punkt is already up-to-date!\n",
            "words: ['A', 'little', 'girl', 'jumps', 'from', 'the', 'yellow', 'ladder', 'into', 'the', 'swimming', 'pool', '.']\n",
            "output: [('A', 'little'), ('little', 'girl'), ('girl', 'jumps'), ('jumps', 'from'), ('from', 'the'), ('the', 'yellow'), ('yellow', 'ladder'), ('ladder', 'into'), ('into', 'the'), ('the', 'swimming'), ('swimming', 'pool'), ('pool', '.')]\n"
          ],
          "name": "stdout"
        }
      ]
    },
    {
      "cell_type": "code",
      "metadata": {
        "colab": {
          "base_uri": "https://localhost:8080/"
        },
        "id": "CWA0a3thxMTw",
        "outputId": "4636739e-f30a-4943-b7d0-f8b83572705e"
      },
      "source": [
        "#Image #15\n",
        "from nltk.translate.bleu_score import sentence_bleu\n",
        "reference = [['a', 'child', 'jump', 'from', 'a', 'slide', 'into', 'a', 'pool'],\n",
        "             ['a', 'girl', 'go', 'down', 'a', 'yellow', 'slide', 'into', 'a', 'pool'],\n",
        "             ['a', 'girl', 'be', 'jump', 'into', 'a', 'pool', 'with', 'two', 'slide', 'behind', 'her'],['a', 'little', 'girl', 'jump', 'from', 'a', 'yellow', 'ladder', 'into', 'a', 'swim', 'pool'],['a', 'little', 'girl', 'jumps', 'from', 'the', 'yellow', 'ladder', 'into', 'the', 'swimming', 'pool']            ]\n",
        "candidate = ['a', 'young', 'girl', 'in', 'a', 'blue', 'bathing', 'suit', 'slides', 'down', 'a', 'yellow', 'slide', 'into', 'a', 'pool']\n",
        "score = sentence_bleu(reference, candidate)\n",
        "# a=score\n",
        "print(score)"
      ],
      "execution_count": null,
      "outputs": [
        {
          "output_type": "stream",
          "text": [
            "0.39653842879131873\n"
          ],
          "name": "stdout"
        }
      ]
    },
    {
      "cell_type": "code",
      "metadata": {
        "colab": {
          "base_uri": "https://localhost:8080/"
        },
        "id": "eEuy3wP6vTq9",
        "outputId": "8a2b2ab2-35d7-4d0a-c302-593219671032"
      },
      "source": [
        "from nltk.translate.bleu_score import sentence_bleu\n",
        "reference = [['a', 'black', 'and', 'brown', 'dog', 'run', 'outside'], ['a', 'brown', 'and', 'black', 'dog', 'run', 'on', 'a', 'trail', 'in', 'the', 'wood'],['a', 'doggy', 'run', 'in', 'the', 'dry', 'grass'],\n",
        "             ['a', 'dog', 'with', 'a', 'red', 'collar', 'run', 'in', 'a', 'forest', 'in', 'the', 'middle', 'of', 'winter']]\n",
        "candidate = ['a', 'black', 'and', 'brown', 'dog', 'is', 'running', 'through', 'a', 'wooded', 'area']\n",
        "score = sentence_bleu(reference, candidate)\n",
        "a=score\n",
        "print(score)"
      ],
      "execution_count": null,
      "outputs": [
        {
          "output_type": "stream",
          "text": [
            "0.33529572102686117\n"
          ],
          "name": "stdout"
        }
      ]
    },
    {
      "cell_type": "code",
      "metadata": {
        "colab": {
          "base_uri": "https://localhost:8080/"
        },
        "id": "lrmwBIGViCWR",
        "outputId": "0f5282fa-0c40-47b1-d283-8bd4476aa55d"
      },
      "source": [
        "from nltk.translate.bleu_score import sentence_bleu\n",
        "reference = [['a', 'man', 'on', 'a', 'bicycle', 'in', 'a', 'city'], ['a', 'person', 'be', 'do', 'trick', 'on', 'a', 'bicycle', 'in', 'a', 'city'],['a', 'young', 'man', 'do', 'bicycle', 'trick', 'in', 'an', 'urban', 'area'],['man', 'stand', 'on', 'a', 'bike', 'downtown']]\n",
        "candidate = ['a', 'man', 'in', 'a', 'red', 'shirt', 'is', 'standing', 'in', 'front', 'of', 'a', 'brick', 'wall']\n",
        "score = sentence_bleu(reference, candidate)\n",
        "a=score\n",
        "print(score)"
      ],
      "execution_count": null,
      "outputs": [
        {
          "output_type": "stream",
          "text": [
            "0.4841524713034601\n"
          ],
          "name": "stdout"
        },
        {
          "output_type": "stream",
          "text": [
            "/usr/local/lib/python3.7/dist-packages/nltk/translate/bleu_score.py:490: UserWarning: \n",
            "Corpus/Sentence contains 0 counts of 3-gram overlaps.\n",
            "BLEU scores might be undesirable; use SmoothingFunction().\n",
            "  warnings.warn(_msg)\n"
          ],
          "name": "stderr"
        }
      ]
    },
    {
      "cell_type": "code",
      "metadata": {
        "id": "HZE9ETxiiFPQ"
      },
      "source": [],
      "execution_count": null,
      "outputs": []
    },
    {
      "cell_type": "code",
      "metadata": {
        "id": "_vQY-XR5Y8Di",
        "colab": {
          "base_uri": "https://localhost:8080/"
        },
        "outputId": "cb1c5e5b-9954-4131-97fe-184dd01a919d"
      },
      "source": [
        "# from nltk.translate.bleu_score import sentence_bleu\n",
        "# reference = [['this', 'is', 'a', 'test'], ['this', 'is' 'test']]\n",
        "# candidate = ['this', 'is', 'test']\n",
        "# score = sentence_bleu(reference, candidate)\n",
        "# print(score)"
      ],
      "execution_count": null,
      "outputs": [
        {
          "output_type": "stream",
          "text": [
            "0.8408964152537145\n"
          ],
          "name": "stdout"
        },
        {
          "output_type": "stream",
          "text": [
            "/usr/local/lib/python3.7/dist-packages/nltk/translate/bleu_score.py:490: UserWarning: \n",
            "Corpus/Sentence contains 0 counts of 3-gram overlaps.\n",
            "BLEU scores might be undesirable; use SmoothingFunction().\n",
            "  warnings.warn(_msg)\n"
          ],
          "name": "stderr"
        }
      ]
    },
    {
      "cell_type": "code",
      "metadata": {
        "id": "2aZxE3MBcYQ2"
      },
      "source": [],
      "execution_count": null,
      "outputs": []
    }
  ]
}